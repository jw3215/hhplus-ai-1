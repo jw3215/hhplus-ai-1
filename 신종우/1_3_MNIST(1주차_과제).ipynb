{
  "nbformat": 4,
  "nbformat_minor": 0,
  "metadata": {
    "colab": {
      "provenance": [],
      "gpuType": "T4",
      "include_colab_link": true
    },
    "kernelspec": {
      "name": "python3",
      "display_name": "Python 3"
    },
    "language_info": {
      "name": "python"
    },
    "accelerator": "GPU"
  },
  "cells": [
    {
      "cell_type": "markdown",
      "metadata": {
        "id": "view-in-github",
        "colab_type": "text"
      },
      "source": [
        "<a href=\"https://colab.research.google.com/github/jw3215/hhplus-ai-1/blob/main/%EC%8B%A0%EC%A2%85%EC%9A%B0/1_3_MNIST(1%EC%A3%BC%EC%B0%A8_%EA%B3%BC%EC%A0%9C).ipynb\" target=\"_parent\"><img src=\"https://colab.research.google.com/assets/colab-badge.svg\" alt=\"Open In Colab\"/></a>"
      ]
    },
    {
      "cell_type": "markdown",
      "source": [
        "# MNIST 실습\n",
        "\n",
        "이번에는 28x28 흑백 손글씨 이미지를 보고 0~9 사이의 숫자 중 어떤 숫자를 쓴 것인지 예측하는 문제를 실습합니다.\n",
        "이번 실습에서는 GPU를 활용할 것이기 때문에, 이전 챕터에서 Colab에서 GPU를 설정하는 방법을 따라해주시길 바랍니다.\n",
        "\n",
        "GPU를 설정했으면 library들을 import합니다."
      ],
      "metadata": {
        "id": "OPJenlrhihrh"
      }
    },
    {
      "cell_type": "code",
      "execution_count": null,
      "metadata": {
        "id": "6lXVfXoDtoQh"
      },
      "outputs": [],
      "source": [
        "import torch\n",
        "import torchvision\n",
        "import torchvision.transforms as transforms\n",
        "print(\"!!\")"
      ]
    },
    {
      "cell_type": "markdown",
      "source": [
        "다음은 dataset을 준비합니다. 손글씨 dataset은 MNIST라는 유명한 dataset이 있습니다. 이 dataset은 `torchvision`에서 제공하고 있으며, 다음과 같이 다운로드 받을 수 있습니다."
      ],
      "metadata": {
        "id": "pF-1zQvmiult"
      }
    },
    {
      "cell_type": "code",
      "source": [
        "transform = transforms.ToTensor()\n",
        "\n",
        "trainset = torchvision.datasets.MNIST(\n",
        "    root='./data',\n",
        "    train=True,\n",
        "    download=True,\n",
        "    transform=transform\n",
        ")"
      ],
      "metadata": {
        "id": "KAYlqPaRt6ti",
        "colab": {
          "base_uri": "https://localhost:8080/"
        },
        "outputId": "1655aeeb-e819-496d-86bb-42126a4369ec"
      },
      "execution_count": null,
      "outputs": [
        {
          "output_type": "stream",
          "name": "stdout",
          "text": [
            "Downloading http://yann.lecun.com/exdb/mnist/train-images-idx3-ubyte.gz\n",
            "Failed to download (trying next):\n",
            "HTTP Error 403: Forbidden\n",
            "\n",
            "Downloading https://ossci-datasets.s3.amazonaws.com/mnist/train-images-idx3-ubyte.gz\n",
            "Downloading https://ossci-datasets.s3.amazonaws.com/mnist/train-images-idx3-ubyte.gz to ./data/MNIST/raw/train-images-idx3-ubyte.gz\n"
          ]
        },
        {
          "output_type": "stream",
          "name": "stderr",
          "text": [
            "100%|██████████| 9912422/9912422 [00:02<00:00, 4155836.06it/s]\n"
          ]
        },
        {
          "output_type": "stream",
          "name": "stdout",
          "text": [
            "Extracting ./data/MNIST/raw/train-images-idx3-ubyte.gz to ./data/MNIST/raw\n",
            "\n",
            "Downloading http://yann.lecun.com/exdb/mnist/train-labels-idx1-ubyte.gz\n",
            "Failed to download (trying next):\n",
            "HTTP Error 403: Forbidden\n",
            "\n",
            "Downloading https://ossci-datasets.s3.amazonaws.com/mnist/train-labels-idx1-ubyte.gz\n",
            "Downloading https://ossci-datasets.s3.amazonaws.com/mnist/train-labels-idx1-ubyte.gz to ./data/MNIST/raw/train-labels-idx1-ubyte.gz\n"
          ]
        },
        {
          "output_type": "stream",
          "name": "stderr",
          "text": [
            "100%|██████████| 28881/28881 [00:00<00:00, 65004.57it/s]\n"
          ]
        },
        {
          "output_type": "stream",
          "name": "stdout",
          "text": [
            "Extracting ./data/MNIST/raw/train-labels-idx1-ubyte.gz to ./data/MNIST/raw\n",
            "\n",
            "Downloading http://yann.lecun.com/exdb/mnist/t10k-images-idx3-ubyte.gz\n",
            "Failed to download (trying next):\n",
            "HTTP Error 403: Forbidden\n",
            "\n",
            "Downloading https://ossci-datasets.s3.amazonaws.com/mnist/t10k-images-idx3-ubyte.gz\n",
            "Downloading https://ossci-datasets.s3.amazonaws.com/mnist/t10k-images-idx3-ubyte.gz to ./data/MNIST/raw/t10k-images-idx3-ubyte.gz\n"
          ]
        },
        {
          "output_type": "stream",
          "name": "stderr",
          "text": [
            "100%|██████████| 1648877/1648877 [00:01<00:00, 1264063.09it/s]\n"
          ]
        },
        {
          "output_type": "stream",
          "name": "stdout",
          "text": [
            "Extracting ./data/MNIST/raw/t10k-images-idx3-ubyte.gz to ./data/MNIST/raw\n",
            "\n",
            "Downloading http://yann.lecun.com/exdb/mnist/t10k-labels-idx1-ubyte.gz\n",
            "Failed to download (trying next):\n",
            "HTTP Error 403: Forbidden\n",
            "\n",
            "Downloading https://ossci-datasets.s3.amazonaws.com/mnist/t10k-labels-idx1-ubyte.gz\n",
            "Downloading https://ossci-datasets.s3.amazonaws.com/mnist/t10k-labels-idx1-ubyte.gz to ./data/MNIST/raw/t10k-labels-idx1-ubyte.gz\n"
          ]
        },
        {
          "output_type": "stream",
          "name": "stderr",
          "text": [
            "100%|██████████| 4542/4542 [00:00<00:00, 4057620.61it/s]"
          ]
        },
        {
          "output_type": "stream",
          "name": "stdout",
          "text": [
            "Extracting ./data/MNIST/raw/t10k-labels-idx1-ubyte.gz to ./data/MNIST/raw\n",
            "\n"
          ]
        },
        {
          "output_type": "stream",
          "name": "stderr",
          "text": [
            "\n"
          ]
        }
      ]
    },
    {
      "cell_type": "markdown",
      "source": [
        "MNIST는 손글씨 사진과 어떤 숫자를 의미하는지에 대한 label의 pair들로 구성되어있습니다.\n",
        "이 때, 우리는 PyTorch model을 사용할 것이기 때문에 손글씨 사진들을 모두 tensor로 변환해야합니다.\n",
        "이러한 부가적인 변환들은 `torchvision.transforms`에서 제공하고 있으며, `torchvision.datasets.MNIST`에서 `transform` 인자로 받을 수 있습니다.\n",
        "우리는 단순히 사진을 tensor로 바꾸고 싶기 때문에 `transforms.ToTensor()` transformation을 넘겨줍니다.\n",
        "\n",
        "다음은 전체 data의 개수와 첫 번째 data를 출력한 결과입니다."
      ],
      "metadata": {
        "id": "p-GqH7_ZjVMs"
      }
    },
    {
      "cell_type": "code",
      "source": [
        "from matplotlib import pyplot as plt\n",
        "\n",
        "print(len(trainset))\n",
        "print(trainset[0][0].shape, trainset[0][1])\n",
        "plt.imshow(trainset[0][0][0], cmap='gray')"
      ],
      "metadata": {
        "colab": {
          "base_uri": "https://localhost:8080/",
          "height": 484
        },
        "id": "Zsp3sHmojyhT",
        "outputId": "fcdf21e1-6615-4cdd-8b4b-eec915cad7d9"
      },
      "execution_count": null,
      "outputs": [
        {
          "output_type": "stream",
          "name": "stdout",
          "text": [
            "60000\n",
            "torch.Size([1, 28, 28]) 5\n"
          ]
        },
        {
          "output_type": "execute_result",
          "data": {
            "text/plain": [
              "<matplotlib.image.AxesImage at 0x79be31080580>"
            ]
          },
          "metadata": {},
          "execution_count": 32
        },
        {
          "output_type": "display_data",
          "data": {
            "text/plain": [
              "<Figure size 640x480 with 1 Axes>"
            ],
            "image/png": "[encoded data removed]"
          },
          "metadata": {}
        }
      ]
    },
    {
      "cell_type": "markdown",
      "source": [
        "첫 번째 출력결과를 통해 우리는 6만장의 손글씨 data가 있는 것을 알 수 있습니다.\n",
        "그리고 두 번째 출력결과를 통해 첫 번째 data의 shape은 (1, 28, 28)이고 5라는 숫자를 쓴 사진이라는 것을 알 수 있습니다.\n",
        "마지막으로 `plt.imshow`를 통해 visualize 했을 때 5라는 숫자가 나오는 것을 알 수 있습니다.\n",
        "\n",
        "다음은 SGD를 위해 dataset을 여러 개의 batch로 나누는 과정을 PyTorch로 구현한 모습입니다."
      ],
      "metadata": {
        "id": "udm8wDBsi301"
      }
    },
    {
      "cell_type": "code",
      "source": [
        "batch_size = 256\n",
        "\n",
        "trainloader = torch.utils.data.DataLoader(\n",
        "    trainset,\n",
        "    batch_size=batch_size,\n",
        "    shuffle=True\n",
        ")"
      ],
      "metadata": {
        "id": "UxKu3kA2i5WH"
      },
      "execution_count": null,
      "outputs": []
    },
    {
      "cell_type": "markdown",
      "source": [
        "PyTorch에서는 `DataLoader`가 dataset을 인자로 받아 batch로 나눠줍니다.\n",
        "부가적으로 `batch_size`라는 인자를 통해 batch size를 받고 있으며, `shuffle`이라는 인자를 통해 data들을 섞을지 결정해줍니다.\n",
        "우리는 SGD가 완전 랜덤으로 batch를 구성해야 잘 동작하는 것을 알고 있기 때문에 `shuffle`에 `True`를 넘겨주고 있습니다.\n",
        "\n",
        "다음은 첫 번째 batch를 출력한 모습입니다."
      ],
      "metadata": {
        "id": "z4Qyrm4WlzWt"
      }
    },
    {
      "cell_type": "code",
      "source": [
        "dataiter = iter(trainloader)\n",
        "images, labels = next(dataiter)\n",
        "print(images.shape, labels.shape)"
      ],
      "metadata": {
        "colab": {
          "base_uri": "https://localhost:8080/"
        },
        "id": "_Hd7XxyAvVNz",
        "outputId": "19fac5e7-7e74-4a78-ebe1-0c3195f4f1cd"
      },
      "execution_count": null,
      "outputs": [
        {
          "output_type": "stream",
          "name": "stdout",
          "text": [
            "torch.Size([256, 1, 28, 28]) torch.Size([256])\n"
          ]
        }
      ]
    },
    {
      "cell_type": "markdown",
      "source": [
        "`images`는 첫 번째 batch의 image들이고 `labels`는 첫 번째 batch의 label들입니다.\n",
        "위에서 batch size를 64로 설정했기 때문에 총 64개의 image와 label들이 있어야 합니다.\n",
        "실제 shape 출력 결과를 보면 그렇다는 것을 알 수 있습니다.\n",
        "\n",
        "다음은 (n, 1, 28, 28) shape의 image를 입력받아 0~9 사이의 정수 하나를 출력하는 3-layer MLP를 구현합니다."
      ],
      "metadata": {
        "id": "h0ZY5mDimRUK"
      }
    },
    {
      "cell_type": "code",
      "source": [
        "from torch import nn\n",
        "\n",
        "\n",
        "class Model(nn.Module):\n",
        "  def __init__(self, input_dim, n_dim):\n",
        "    super().__init__()\n",
        "\n",
        "    self.layer1 = nn.Linear(input_dim, n_dim)\n",
        "    self.layer2 = nn.Linear(n_dim, n_dim)\n",
        "    self.layer3 = nn.Linear(n_dim, 10)\n",
        "\n",
        "    self.act = nn.ReLU()\n",
        "\n",
        "  def forward(self, x):\n",
        "    x = torch.flatten(x, start_dim=1)\n",
        "    x = self.act(self.layer1(x))\n",
        "    x = self.act(self.layer2(x))\n",
        "    x = self.act(self.layer3(x))\n",
        "\n",
        "    return x\n",
        "\n",
        "\n",
        "model = Model(28 * 28 * 1, 1024)"
      ],
      "metadata": {
        "id": "OLOA-ZGTuVVG"
      },
      "execution_count": null,
      "outputs": []
    },
    {
      "cell_type": "markdown",
      "source": [
        "이전의 2-layer MLP와 유사한 형태임을 알 수 있습니다.\n",
        "여기서 특이사항은 `forward`의 첫 번째 줄에 `torch.flatten`을 사용한다는 것입니다.\n",
        "`Linear`는 이전에도 봤다시피 (n, d) 형태의 shape을 입력받습니다.\n",
        "이미지는 (n, 1, 28, 28)이기 때문에 (n, 1 * 28 * 28)로 shape을 변환해야 선형 함수에 입력으로 주어줄 수 있게 됩니다.\n",
        "이 역할을 수행하는 것이 바로 `torch.flatten`입니다.\n",
        "우리는 첫 번째 shape인 n을 보존할 것이기 때문에 flatten할 차원은 `start_dim=1`로 넘겨주게 됩니다.\n",
        "\n",
        "다음은 gradient descent를 수행해줄 optimizer를 구현하는 모습입니다."
      ],
      "metadata": {
        "id": "tag1rNcwmnAr"
      }
    },
    {
      "cell_type": "code",
      "source": [
        "from torch.optim import SGD\n",
        "\n",
        "lr = 0.001\n",
        "model = model.to('cuda')\n",
        "\n",
        "optimizer = SGD(model.parameters(), lr=lr)"
      ],
      "metadata": {
        "id": "ypS0TcOlvBhZ"
      },
      "execution_count": null,
      "outputs": []
    },
    {
      "cell_type": "markdown",
      "source": [
        "이전 코드와 거의 똑같습니다. 다른 점은 `model.to('cuda')` 코드를 통해 우리가 구현한 model을 GPU로 옮긴 것입니다.\n",
        "MNIST 부터는 모델과 data가 커지면서 훨씬 많은 행렬 연산이 이루어지기 때문에 GPU를 활용하는 것이 빠릅니다.\n",
        "\n",
        "다음은 model을 MNIST에 학습하는 코드입니다."
      ],
      "metadata": {
        "id": "5PooeOKMnRfZ"
      }
    },
    {
      "cell_type": "code",
      "source": [
        "def accuracy(model, dataloader):\n",
        "  cnt = 0\n",
        "  acc = 0\n",
        "\n",
        "  for data in dataloader:\n",
        "    # print(data)\n",
        "    inputs, labels = data\n",
        "    inputs, labels = inputs.to('cuda'), labels.to('cuda')\n",
        "\n",
        "    preds = model(inputs)\n",
        "    preds = torch.argmax(preds, dim=-1)\n",
        "\n",
        "    cnt += labels.shape[0]\n",
        "    acc += (labels == preds).sum().item()\n",
        "\n",
        "  print(acc, cnt)\n",
        "  return acc / cnt"
      ],
      "metadata": {
        "id": "mIFN0NEef6RJ"
      },
      "execution_count": null,
      "outputs": []
    },
    {
      "cell_type": "code",
      "source": [
        "# Test data 준비하기\n",
        "testset = torchvision.datasets.MNIST(\n",
        "    root='./data',\n",
        "    train=False,\n",
        "    download=True,\n",
        "    transform=transform\n",
        ")"
      ],
      "metadata": {
        "id": "2ZxjxJwZgeAY"
      },
      "execution_count": null,
      "outputs": []
    },
    {
      "cell_type": "code",
      "source": [
        "# test data loader\n",
        "testloader = torch.utils.data.DataLoader(\n",
        "    testset,\n",
        "    batch_size=batch_size,\n",
        "    shuffle=False\n",
        ")"
      ],
      "metadata": {
        "id": "SvgptESMgd4r"
      },
      "execution_count": null,
      "outputs": []
    },
    {
      "cell_type": "code",
      "source": [
        "n_epochs = 100\n",
        "\n",
        "train_accs = []\n",
        "test_accs = []\n",
        "\n",
        "for epoch in range(n_epochs):\n",
        "  total_loss = 0.\n",
        "  for data in trainloader:\n",
        "    model.zero_grad()\n",
        "    inputs, labels = data\n",
        "    inputs, labels = inputs.to('cuda'), labels.to('cuda')\n",
        "\n",
        "    preds = model(inputs)\n",
        "    # loss = (preds[:, 0] - labels).pow(2).mean()\n",
        "    loss = torch.nn.CrossEntropyLoss()(preds, labels)\n",
        "\n",
        "\n",
        "    loss.backward()\n",
        "    optimizer.step()\n",
        "\n",
        "    total_loss += loss.item()\n",
        "\n",
        "  train_accs.append(accuracy(model, trainloader))\n",
        "  test_accs.append(accuracy(model, testloader))\n",
        "  print(f\"Epoch {epoch:3d} | Loss: {total_loss}\")\n",
        "\n"
      ],
      "metadata": {
        "colab": {
          "base_uri": "https://localhost:8080/"
        },
        "id": "TryX1hewvNiB",
        "outputId": "0e7b8ff4-62eb-493e-f7f9-895aa8e37633"
      },
      "execution_count": null,
      "outputs": [
        {
          "output_type": "stream",
          "name": "stdout",
          "text": [
            "36008 60000\n",
            "6136 10000\n",
            "Epoch   0 | Loss: 521.2478039264679\n",
            "36361 60000\n",
            "6207 10000\n",
            "Epoch   1 | Loss: 516.6303865909576\n",
            "36523 60000\n",
            "6247 10000\n",
            "Epoch   2 | Loss: 511.45149183273315\n",
            "36636 60000\n",
            "6247 10000\n",
            "Epoch   3 | Loss: 505.627090215683\n",
            "36798 60000\n",
            "6266 10000\n",
            "Epoch   4 | Loss: 499.0361452102661\n",
            "36991 60000\n",
            "6297 10000\n",
            "Epoch   5 | Loss: 491.6571192741394\n",
            "37167 60000\n",
            "6318 10000\n",
            "Epoch   6 | Loss: 483.34405994415283\n",
            "37477 60000\n",
            "6370 10000\n",
            "Epoch   7 | Loss: 474.1156620979309\n",
            "37803 60000\n",
            "6430 10000\n",
            "Epoch   8 | Loss: 463.8914430141449\n",
            "38154 60000\n",
            "6488 10000\n",
            "Epoch   9 | Loss: 452.8372724056244\n",
            "38506 60000\n",
            "6556 10000\n",
            "Epoch  10 | Loss: 440.7695873975754\n",
            "38873 60000\n",
            "6602 10000\n",
            "Epoch  11 | Loss: 427.98009061813354\n",
            "39210 60000\n",
            "6654 10000\n",
            "Epoch  12 | Loss: 414.4609191417694\n",
            "39486 60000\n",
            "6699 10000\n",
            "Epoch  13 | Loss: 400.4412188529968\n",
            "39890 60000\n",
            "6760 10000\n",
            "Epoch  14 | Loss: 386.2147023677826\n",
            "40228 60000\n",
            "6806 10000\n",
            "Epoch  15 | Loss: 371.9124536514282\n",
            "40679 60000\n",
            "6895 10000\n",
            "Epoch  16 | Loss: 357.77497363090515\n",
            "41150 60000\n",
            "6978 10000\n",
            "Epoch  17 | Loss: 344.10561966896057\n",
            "41657 60000\n",
            "7059 10000\n",
            "Epoch  18 | Loss: 331.18869054317474\n",
            "42144 60000\n",
            "7120 10000\n",
            "Epoch  19 | Loss: 319.04714262485504\n",
            "42507 60000\n",
            "7175 10000\n",
            "Epoch  20 | Loss: 307.7799599170685\n",
            "42909 60000\n",
            "7243 10000\n",
            "Epoch  21 | Loss: 297.3602591753006\n",
            "43240 60000\n",
            "7295 10000\n",
            "Epoch  22 | Loss: 287.83883786201477\n",
            "43535 60000\n",
            "7351 10000\n",
            "Epoch  23 | Loss: 278.9977960586548\n",
            "43740 60000\n",
            "7386 10000\n",
            "Epoch  24 | Loss: 271.15354895591736\n",
            "44033 60000\n",
            "7435 10000\n",
            "Epoch  25 | Loss: 263.57902002334595\n",
            "44241 60000\n",
            "7474 10000\n",
            "Epoch  26 | Loss: 256.9970071911812\n",
            "44466 60000\n",
            "7511 10000\n",
            "Epoch  27 | Loss: 250.48534709215164\n",
            "44670 60000\n",
            "7540 10000\n",
            "Epoch  28 | Loss: 244.66893261671066\n",
            "44860 60000\n",
            "7571 10000\n",
            "Epoch  29 | Loss: 239.20475333929062\n",
            "45048 60000\n",
            "7620 10000\n",
            "Epoch  30 | Loss: 234.18204981088638\n",
            "45184 60000\n",
            "7639 10000\n",
            "Epoch  31 | Loss: 229.3976588845253\n",
            "45376 60000\n",
            "7672 10000\n",
            "Epoch  32 | Loss: 224.96812802553177\n",
            "45523 60000\n",
            "7701 10000\n",
            "Epoch  33 | Loss: 220.91809153556824\n",
            "45618 60000\n",
            "7720 10000\n",
            "Epoch  34 | Loss: 216.86097717285156\n",
            "45780 60000\n",
            "7758 10000\n",
            "Epoch  35 | Loss: 213.07505524158478\n",
            "45884 60000\n",
            "7777 10000\n",
            "Epoch  36 | Loss: 209.67214739322662\n",
            "46035 60000\n",
            "7807 10000\n",
            "Epoch  37 | Loss: 206.3029124736786\n",
            "46134 60000\n",
            "7831 10000\n",
            "Epoch  38 | Loss: 203.05790585279465\n",
            "46260 60000\n",
            "7848 10000\n",
            "Epoch  39 | Loss: 200.0807949900627\n",
            "46343 60000\n",
            "7858 10000\n",
            "Epoch  40 | Loss: 197.22582238912582\n",
            "46427 60000\n",
            "7874 10000\n",
            "Epoch  41 | Loss: 194.41412657499313\n",
            "46580 60000\n",
            "7895 10000\n",
            "Epoch  42 | Loss: 191.8101762533188\n",
            "46668 60000\n",
            "7909 10000\n",
            "Epoch  43 | Loss: 189.40579921007156\n",
            "46764 60000\n",
            "7923 10000\n",
            "Epoch  44 | Loss: 186.948271214962\n",
            "46856 60000\n",
            "7939 10000\n",
            "Epoch  45 | Loss: 184.76245164871216\n",
            "46937 60000\n",
            "7943 10000\n",
            "Epoch  46 | Loss: 182.5192587375641\n",
            "47034 60000\n",
            "7953 10000\n",
            "Epoch  47 | Loss: 180.50214338302612\n",
            "47103 60000\n",
            "7963 10000\n",
            "Epoch  48 | Loss: 178.55621963739395\n",
            "47170 60000\n",
            "7975 10000\n",
            "Epoch  49 | Loss: 176.69868105649948\n",
            "47214 60000\n",
            "7983 10000\n",
            "Epoch  50 | Loss: 174.82817256450653\n",
            "47301 60000\n",
            "7992 10000\n",
            "Epoch  51 | Loss: 173.13180327415466\n",
            "47344 60000\n",
            "8000 10000\n",
            "Epoch  52 | Loss: 171.41775554418564\n",
            "47407 60000\n",
            "8012 10000\n",
            "Epoch  53 | Loss: 169.91364508867264\n",
            "47464 60000\n",
            "8013 10000\n",
            "Epoch  54 | Loss: 168.42035830020905\n",
            "47515 60000\n",
            "8022 10000\n",
            "Epoch  55 | Loss: 166.90993481874466\n",
            "47576 60000\n",
            "8032 10000\n",
            "Epoch  56 | Loss: 165.5024453997612\n",
            "47608 60000\n",
            "8041 10000\n",
            "Epoch  57 | Loss: 164.17293870449066\n",
            "47646 60000\n",
            "8044 10000\n",
            "Epoch  58 | Loss: 162.88104438781738\n",
            "47714 60000\n",
            "8050 10000\n",
            "Epoch  59 | Loss: 161.63012564182281\n",
            "47783 60000\n",
            "8056 10000\n",
            "Epoch  60 | Loss: 160.42833721637726\n",
            "47804 60000\n",
            "8061 10000\n",
            "Epoch  61 | Loss: 159.26166677474976\n",
            "47843 60000\n",
            "8064 10000\n",
            "Epoch  62 | Loss: 158.17745971679688\n",
            "47877 60000\n",
            "8069 10000\n",
            "Epoch  63 | Loss: 157.08933299779892\n",
            "47896 60000\n",
            "8074 10000\n",
            "Epoch  64 | Loss: 156.02930629253387\n",
            "47940 60000\n",
            "8087 10000\n",
            "Epoch  65 | Loss: 155.10629612207413\n",
            "47976 60000\n",
            "8092 10000\n",
            "Epoch  66 | Loss: 154.19383543729782\n",
            "48029 60000\n",
            "8097 10000\n",
            "Epoch  67 | Loss: 153.2010419368744\n",
            "48055 60000\n",
            "8104 10000\n",
            "Epoch  68 | Loss: 152.32578974962234\n",
            "48101 60000\n",
            "8105 10000\n",
            "Epoch  69 | Loss: 151.44291758537292\n",
            "48130 60000\n",
            "8115 10000\n",
            "Epoch  70 | Loss: 150.69051483273506\n",
            "48154 60000\n",
            "8113 10000\n",
            "Epoch  71 | Loss: 149.92581421136856\n",
            "48194 60000\n",
            "8118 10000\n",
            "Epoch  72 | Loss: 149.10796386003494\n",
            "48215 60000\n",
            "8119 10000\n",
            "Epoch  73 | Loss: 148.39275613427162\n",
            "48242 60000\n",
            "8125 10000\n",
            "Epoch  74 | Loss: 147.61492785811424\n",
            "48281 60000\n",
            "8128 10000\n",
            "Epoch  75 | Loss: 146.96609243750572\n",
            "48303 60000\n",
            "8128 10000\n",
            "Epoch  76 | Loss: 146.239530056715\n",
            "48316 60000\n",
            "8133 10000\n",
            "Epoch  77 | Loss: 145.66645422577858\n",
            "48339 60000\n",
            "8135 10000\n",
            "Epoch  78 | Loss: 144.9830367565155\n",
            "48378 60000\n",
            "8138 10000\n",
            "Epoch  79 | Loss: 144.28460228443146\n",
            "48394 60000\n",
            "8135 10000\n",
            "Epoch  80 | Loss: 143.76686415076256\n",
            "48419 60000\n",
            "8141 10000\n",
            "Epoch  81 | Loss: 143.04832056164742\n",
            "48444 60000\n",
            "8147 10000\n",
            "Epoch  82 | Loss: 142.58193948864937\n",
            "48475 60000\n",
            "8157 10000\n",
            "Epoch  83 | Loss: 142.03801143169403\n",
            "48498 60000\n",
            "8156 10000\n",
            "Epoch  84 | Loss: 141.50808688998222\n",
            "48512 60000\n",
            "8162 10000\n",
            "Epoch  85 | Loss: 140.9777436554432\n",
            "48550 60000\n",
            "8168 10000\n",
            "Epoch  86 | Loss: 140.39556819200516\n",
            "48557 60000\n",
            "8171 10000\n",
            "Epoch  87 | Loss: 139.96352529525757\n",
            "48584 60000\n",
            "8179 10000\n",
            "Epoch  88 | Loss: 139.45479509234428\n",
            "48627 60000\n",
            "8176 10000\n",
            "Epoch  89 | Loss: 139.01103603839874\n",
            "48653 60000\n",
            "8179 10000\n",
            "Epoch  90 | Loss: 138.53800684213638\n",
            "48665 60000\n",
            "8186 10000\n",
            "Epoch  91 | Loss: 138.04836574196815\n",
            "48694 60000\n",
            "8190 10000\n",
            "Epoch  92 | Loss: 137.6087590456009\n",
            "48707 60000\n",
            "8197 10000\n",
            "Epoch  93 | Loss: 137.18907284736633\n",
            "48725 60000\n",
            "8196 10000\n",
            "Epoch  94 | Loss: 136.7185413837433\n",
            "48753 60000\n",
            "8199 10000\n",
            "Epoch  95 | Loss: 136.28957742452621\n",
            "48759 60000\n",
            "8197 10000\n",
            "Epoch  96 | Loss: 135.9547443985939\n",
            "48776 60000\n",
            "8207 10000\n",
            "Epoch  97 | Loss: 135.57240989804268\n",
            "48802 60000\n",
            "8207 10000\n",
            "Epoch  98 | Loss: 135.26679879426956\n",
            "48809 60000\n",
            "8213 10000\n",
            "Epoch  99 | Loss: 134.79220932722092\n"
          ]
        }
      ]
    },
    {
      "cell_type": "code",
      "source": [
        "# print(accuracy(model, trainloader))\n",
        "# print(accuracy(model, testloader))\n",
        "print(train_accs)\n",
        "print(test_accs)"
      ],
      "metadata": {
        "id": "NFKtw303mdxR",
        "outputId": "4951655b-e496-4f56-95c1-3ac6e65d86e2",
        "colab": {
          "base_uri": "https://localhost:8080/"
        }
      },
      "execution_count": null,
      "outputs": [
        {
          "output_type": "stream",
          "name": "stdout",
          "text": [
            "[0.6001333333333333, 0.6060166666666666, 0.6087166666666667, 0.6106, 0.6133, 0.6165166666666667, 0.61945, 0.6246166666666667, 0.63005, 0.6359, 0.6417666666666667, 0.6478833333333334, 0.6535, 0.6581, 0.6648333333333334, 0.6704666666666667, 0.6779833333333334, 0.6858333333333333, 0.6942833333333334, 0.7024, 0.70845, 0.71515, 0.7206666666666667, 0.7255833333333334, 0.729, 0.7338833333333333, 0.73735, 0.7411, 0.7445, 0.7476666666666667, 0.7508, 0.7530666666666667, 0.7562666666666666, 0.7587166666666667, 0.7603, 0.763, 0.7647333333333334, 0.76725, 0.7689, 0.771, 0.7723833333333333, 0.7737833333333334, 0.7763333333333333, 0.7778, 0.7794, 0.7809333333333334, 0.7822833333333333, 0.7839, 0.78505, 0.7861666666666667, 0.7869, 0.78835, 0.7890666666666667, 0.7901166666666667, 0.7910666666666667, 0.7919166666666667, 0.7929333333333334, 0.7934666666666667, 0.7941, 0.7952333333333333, 0.7963833333333333, 0.7967333333333333, 0.7973833333333333, 0.79795, 0.7982666666666667, 0.799, 0.7996, 0.8004833333333333, 0.8009166666666667, 0.8016833333333333, 0.8021666666666667, 0.8025666666666667, 0.8032333333333334, 0.8035833333333333, 0.8040333333333334, 0.8046833333333333, 0.80505, 0.8052666666666667, 0.80565, 0.8063, 0.8065666666666667, 0.8069833333333334, 0.8074, 0.8079166666666666, 0.8083, 0.8085333333333333, 0.8091666666666667, 0.8092833333333334, 0.8097333333333333, 0.81045, 0.8108833333333333, 0.8110833333333334, 0.8115666666666667, 0.8117833333333333, 0.8120833333333334, 0.81255, 0.81265, 0.8129333333333333, 0.8133666666666667, 0.8134833333333333]\n",
            "[0.6136, 0.6207, 0.6247, 0.6247, 0.6266, 0.6297, 0.6318, 0.637, 0.643, 0.6488, 0.6556, 0.6602, 0.6654, 0.6699, 0.676, 0.6806, 0.6895, 0.6978, 0.7059, 0.712, 0.7175, 0.7243, 0.7295, 0.7351, 0.7386, 0.7435, 0.7474, 0.7511, 0.754, 0.7571, 0.762, 0.7639, 0.7672, 0.7701, 0.772, 0.7758, 0.7777, 0.7807, 0.7831, 0.7848, 0.7858, 0.7874, 0.7895, 0.7909, 0.7923, 0.7939, 0.7943, 0.7953, 0.7963, 0.7975, 0.7983, 0.7992, 0.8, 0.8012, 0.8013, 0.8022, 0.8032, 0.8041, 0.8044, 0.805, 0.8056, 0.8061, 0.8064, 0.8069, 0.8074, 0.8087, 0.8092, 0.8097, 0.8104, 0.8105, 0.8115, 0.8113, 0.8118, 0.8119, 0.8125, 0.8128, 0.8128, 0.8133, 0.8135, 0.8138, 0.8135, 0.8141, 0.8147, 0.8157, 0.8156, 0.8162, 0.8168, 0.8171, 0.8179, 0.8176, 0.8179, 0.8186, 0.819, 0.8197, 0.8196, 0.8199, 0.8197, 0.8207, 0.8207, 0.8213]\n"
          ]
        }
      ]
    },
    {
      "cell_type": "markdown",
      "source": [
        "출력 결과를 보면 잘 수렴하는 것을 볼 수 있습니다.\n",
        "이전 구현과 다른 점은 다음 두 가지입니다.\n",
        "- `for data in trainloader`를 통해 batch들을 iterate하면서 model을 학습합니다.\n",
        "- `inputs, labels = inputs.to('cuda'), labels.to('cuda')`를 통해 model의 입력으로 들어가는 tensor들을 GPU로 보냅니다.\n",
        "\n",
        "마지막으로 첫 번째 data에 대한 예측 결과를 살펴봅시다."
      ],
      "metadata": {
        "id": "YRDcptrqniX7"
      }
    },
    {
      "cell_type": "code",
      "source": [
        "import torch.nn.functional as F\n",
        "\n",
        "idx = 0\n",
        "for idx in range(20):\n",
        "  x = trainset[idx][0][None]  # (1, 1, 28, 28)\n",
        "  x = x.to('cuda')\n",
        "  _, predicted_class= torch.max(F.softmax(model(x)), dim=1)\n",
        "  print(predicted_class)\n",
        "  # print(torch.max(F.softmax(model(x))))\n",
        "  # for x,j in enumerate(iter(F.softmax(model(x)))):\n",
        "  #   print(x,j)\n",
        "  print(trainset[idx][1])\n",
        "\n",
        "\n"
      ],
      "metadata": {
        "id": "Zct0ssSKwjt1",
        "colab": {
          "base_uri": "https://localhost:8080/"
        },
        "outputId": "ca9e2cfd-e652-4143-94bd-5f7a5cb65f9b"
      },
      "execution_count": null,
      "outputs": [
        {
          "output_type": "stream",
          "name": "stdout",
          "text": [
            "tensor([3], device='cuda:0')\n",
            "5\n",
            "tensor([0], device='cuda:0')\n",
            "0\n",
            "tensor([4], device='cuda:0')\n",
            "4\n",
            "tensor([1], device='cuda:0')\n",
            "1\n",
            "tensor([9], device='cuda:0')\n",
            "9\n",
            "tensor([2], device='cuda:0')\n",
            "2\n",
            "tensor([1], device='cuda:0')\n",
            "1\n",
            "tensor([3], device='cuda:0')\n",
            "3\n",
            "tensor([1], device='cuda:0')\n",
            "1\n",
            "tensor([4], device='cuda:0')\n",
            "4\n",
            "tensor([3], device='cuda:0')\n",
            "3\n",
            "tensor([8], device='cuda:0')\n",
            "5\n",
            "tensor([3], device='cuda:0')\n",
            "3\n",
            "tensor([0], device='cuda:0')\n",
            "6\n",
            "tensor([1], device='cuda:0')\n",
            "1\n",
            "tensor([7], device='cuda:0')\n",
            "7\n",
            "tensor([2], device='cuda:0')\n",
            "2\n",
            "tensor([8], device='cuda:0')\n",
            "8\n",
            "tensor([5], device='cuda:0')\n",
            "6\n",
            "tensor([9], device='cuda:0')\n",
            "9\n"
          ]
        },
        {
          "output_type": "stream",
          "name": "stderr",
          "text": [
            "<ipython-input-39-be5fa8b69981>:7: UserWarning: Implicit dimension choice for softmax has been deprecated. Change the call to include dim=X as an argument.\n",
            "  _, predicted_class= torch.max(F.softmax(model(x)), dim=1)\n"
          ]
        }
      ]
    },
    {
      "cell_type": "markdown",
      "source": [
        "여기서 idx를 조정하여 다른 data에 대한 출력 결과도 볼 수 있습니다.\n",
        "예측 결과를 보시면 아직 성능이 그렇게 좋지 않은 것을 알 수 있습니다."
      ],
      "metadata": {
        "id": "qzgSOrMsoZ2z"
      }
    },
    {
      "cell_type": "markdown",
      "source": [
        "====================================="
      ],
      "metadata": {
        "id": "-BARQZTigB0o"
      }
    },
    {
      "cell_type": "code",
      "source": [
        "import numpy as np\n",
        "import matplotlib.pyplot as plt\n",
        "\n",
        "def plot_acc(train_accs, test_accs, label1='train', label2='test'):\n",
        "  x = np.arange(len(train_accs))\n",
        "\n",
        "  plt.plot(x, train_accs, label=label1)\n",
        "  plt.plot(x, test_accs, label=label2)\n",
        "  plt.legend()\n",
        "  plt.show()"
      ],
      "metadata": {
        "id": "d6M4SpWQoML9"
      },
      "execution_count": null,
      "outputs": []
    },
    {
      "cell_type": "code",
      "source": [
        "plot_acc(train_accs, test_accs)"
      ],
      "metadata": {
        "colab": {
          "base_uri": "https://localhost:8080/",
          "height": 430
        },
        "id": "_9ModPuykhcN",
        "outputId": "e2a53b84-91aa-49f9-c288-71f0da937c73"
      },
      "execution_count": null,
      "outputs": [
        {
          "output_type": "display_data",
          "data": {
            "text/plain": [
              "<Figure size 640x480 with 1 Axes>"
            ],
            "image/png": "[encoded data removed]"
          },
          "metadata": {}
        }
      ]
    },
    {
      "cell_type": "code",
      "source": [],
      "metadata": {
        "id": "gngaODoxkzB6"
      },
      "execution_count": null,
      "outputs": []
    }
  ]
}